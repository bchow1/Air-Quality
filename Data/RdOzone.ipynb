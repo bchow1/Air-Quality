{
 "cells": [
  {
   "cell_type": "code",
   "execution_count": 6,
   "metadata": {
    "collapsed": true
   },
   "outputs": [],
   "source": [
    "import os\n",
    "import pandas as pd\n",
    "import numpy as np\n",
    "import matplotlib.pyplot as plt"
   ]
  },
  {
   "cell_type": "code",
   "execution_count": 7,
   "metadata": {
    "collapsed": false
   },
   "outputs": [
    {
     "name": "stdout",
     "output_type": "stream",
     "text": [
      "0.18.1\n"
     ]
    }
   ],
   "source": [
    "print pd.__version__"
   ]
  },
  {
   "cell_type": "code",
   "execution_count": 8,
   "metadata": {
    "collapsed": false
   },
   "outputs": [
    {
     "name": "stdout",
     "output_type": "stream",
     "text": [
      "   State Code  County Code  Site Num  Parameter Code  POC  Latitude  \\\n",
      "0           1           49      9991           44201    1    34.289   \n",
      "1           1           49      9991           44201    1    34.289   \n",
      "2           1           49      9991           44201    1    34.289   \n",
      "3           1           49      9991           44201    1    34.289   \n",
      "4           1           49      9991           44201    1    34.289   \n",
      "\n",
      "   Longitude  Datum Parameter Name  Date Local         ...           \\\n",
      "0  -85.97007  NAD83          Ozone  2016-01-01         ...            \n",
      "1  -85.97007  NAD83          Ozone  2016-01-01         ...            \n",
      "2  -85.97007  NAD83          Ozone  2016-01-01         ...            \n",
      "3  -85.97007  NAD83          Ozone  2016-01-01         ...            \n",
      "4  -85.97007  NAD83          Ozone  2016-01-01         ...            \n",
      "\n",
      "    Units of Measure    MDL Uncertainty  Qualifier Method Type  Method Code  \\\n",
      "0  Parts per million  0.005         NaN        NaN         FEM           47   \n",
      "1  Parts per million  0.005         NaN        NaN         FEM           47   \n",
      "2  Parts per million  0.005         NaN        NaN         FEM           47   \n",
      "3  Parts per million  0.005         NaN        NaN         FEM           47   \n",
      "4  Parts per million  0.005         NaN        NaN         FEM           47   \n",
      "\n",
      "                   Method Name State Name County Name  Date of Last Change  \n",
      "0  INSTRUMENTAL - ULTRA VIOLET    Alabama      DeKalb           2016-03-31  \n",
      "1  INSTRUMENTAL - ULTRA VIOLET    Alabama      DeKalb           2016-03-31  \n",
      "2  INSTRUMENTAL - ULTRA VIOLET    Alabama      DeKalb           2016-03-31  \n",
      "3  INSTRUMENTAL - ULTRA VIOLET    Alabama      DeKalb           2016-03-31  \n",
      "4  INSTRUMENTAL - ULTRA VIOLET    Alabama      DeKalb           2016-03-31  \n",
      "\n",
      "[5 rows x 24 columns]\n"
     ]
    }
   ],
   "source": [
    "#os.chdir(\"C:\\\\Users\\\\Biswanath\\\\CodeForPrinceton\\\\AirQuality\\\\Data\\\\2016\")\n",
    "os.chdir(\"E:\\\\Air-Quality\\\\Data\\\\2016\")\n",
    "o3 = pd.read_csv('hourly_44201_2016.zip', compression='zip', sep=',', quotechar='\"')\n",
    "#o3 = pd.read_csv('hourly_44201_2016.csv', sep=',', quotechar='\"')\n",
    "print o3.head()"
   ]
  },
  {
   "cell_type": "code",
   "execution_count": 9,
   "metadata": {
    "collapsed": false
   },
   "outputs": [
    {
     "name": "stdout",
     "output_type": "stream",
     "text": [
      "State Code                                       1\n",
      "County Code                                     49\n",
      "Site Num                                      9991\n",
      "Parameter Code                               44201\n",
      "POC                                              1\n",
      "Latitude                                    34.289\n",
      "Longitude                                 -85.9701\n",
      "Datum                                        NAD83\n",
      "Parameter Name                               Ozone\n",
      "Date Local                              2016-01-01\n",
      "Time Local                                   00:00\n",
      "Date GMT                                2016-01-01\n",
      "Time GMT                                     06:00\n",
      "Sample Measurement                           0.019\n",
      "Units of Measure                 Parts per million\n",
      "MDL                                          0.005\n",
      "Uncertainty                                    NaN\n",
      "Qualifier                                      NaN\n",
      "Method Type                                    FEM\n",
      "Method Code                                     47\n",
      "Method Name            INSTRUMENTAL - ULTRA VIOLET\n",
      "State Name                                 Alabama\n",
      "County Name                                 DeKalb\n",
      "Date of Last Change                     2016-03-31\n",
      "Name: 0, dtype: object\n"
     ]
    }
   ],
   "source": [
    "print o3.iloc[0]\n"
   ]
  },
  {
   "cell_type": "code",
   "execution_count": 10,
   "metadata": {
    "collapsed": false
   },
   "outputs": [],
   "source": [
    "nj = o3[o3['State Name']=='New Jersey']\n"
   ]
  },
  {
   "cell_type": "code",
   "execution_count": 11,
   "metadata": {
    "collapsed": false
   },
   "outputs": [
    {
     "name": "stdout",
     "output_type": "stream",
     "text": [
      "        Latitude  Longitude  Date Local Time Local  Sample Measurement\n",
      "970585   40.3125   -74.8729  2016-01-01      00:00               0.029\n",
      "970586   40.3125   -74.8729  2016-01-01      01:00               0.028\n",
      "970587   40.3125   -74.8729  2016-01-01      03:00               0.025\n",
      "970588   40.3125   -74.8729  2016-01-01      04:00               0.023\n",
      "970589   40.3125   -74.8729  2016-01-01      05:00               0.022\n",
      "970590   40.3125   -74.8729  2016-01-01      06:00               0.023\n",
      "970591   40.3125   -74.8729  2016-01-01      07:00               0.023\n",
      "970592   40.3125   -74.8729  2016-01-01      08:00               0.025\n",
      "970593   40.3125   -74.8729  2016-01-01      09:00               0.028\n",
      "970594   40.3125   -74.8729  2016-01-01      10:00               0.029\n",
      "970595   40.3125   -74.8729  2016-01-01      11:00               0.029\n",
      "970596   40.3125   -74.8729  2016-01-01      12:00               0.031\n",
      "970597   40.3125   -74.8729  2016-01-01      13:00               0.031\n",
      "970598   40.3125   -74.8729  2016-01-01      14:00               0.032\n",
      "970599   40.3125   -74.8729  2016-01-01      15:00               0.031\n",
      "970600   40.3125   -74.8729  2016-01-01      16:00               0.032\n",
      "970601   40.3125   -74.8729  2016-01-01      17:00               0.033\n",
      "970602   40.3125   -74.8729  2016-01-01      18:00               0.032\n",
      "970603   40.3125   -74.8729  2016-01-01      19:00               0.034\n",
      "970604   40.3125   -74.8729  2016-01-01      20:00               0.033\n",
      "970605   40.3125   -74.8729  2016-01-01      21:00               0.035\n",
      "970606   40.3125   -74.8729  2016-01-01      22:00               0.035\n",
      "970607   40.3125   -74.8729  2016-01-01      23:00               0.034\n",
      "970608   40.3125   -74.8729  2016-01-02      00:00               0.032\n",
      "970609   40.3125   -74.8729  2016-01-02      01:00               0.032\n"
     ]
    }
   ],
   "source": [
    "print nj.iloc[:25][['Latitude','Longitude','Date Local','Time Local','Sample Measurement']]\n",
    "#print nj['Latitude','Longitude','Date Local','Time Local','Sample Measurement'][0]"
   ]
  },
  {
   "cell_type": "code",
   "execution_count": 12,
   "metadata": {
    "collapsed": false
   },
   "outputs": [
    {
     "data": {
      "text/plain": [
       "('2016-01-01', '00:00')"
      ]
     },
     "execution_count": 12,
     "metadata": {},
     "output_type": "execute_result"
    }
   ],
   "source": [
    "nj.iloc[0]['Date Local'],nj.iloc[0]['Time Local']"
   ]
  },
  {
   "cell_type": "code",
   "execution_count": 19,
   "metadata": {
    "collapsed": false
   },
   "outputs": [
    {
     "name": "stderr",
     "output_type": "stream",
     "text": [
      "C:\\Users\\sid\\Anaconda2\\lib\\site-packages\\ipykernel\\__main__.py:1: SettingWithCopyWarning: \n",
      "A value is trying to be set on a copy of a slice from a DataFrame.\n",
      "Try using .loc[row_indexer,col_indexer] = value instead\n",
      "\n",
      "See the caveats in the documentation: http://pandas.pydata.org/pandas-docs/stable/indexing.html#indexing-view-versus-copy\n",
      "  if __name__ == '__main__':\n"
     ]
    },
    {
     "data": {
      "text/plain": [
       "970585    2016-01-01 00:00\n",
       "970586    2016-01-01 01:00\n",
       "970587    2016-01-01 03:00\n",
       "970588    2016-01-01 04:00\n",
       "970589    2016-01-01 05:00\n",
       "Name: DateStr, dtype: object"
      ]
     },
     "execution_count": 19,
     "metadata": {},
     "output_type": "execute_result"
    }
   ],
   "source": [
    "nj['DateStr'] = nj['Date Local'] + ' ' + nj['Time Local']\n",
    "nj['DateStr'].head() "
   ]
  },
  {
   "cell_type": "code",
   "execution_count": 32,
   "metadata": {
    "collapsed": false
   },
   "outputs": [
    {
     "name": "stderr",
     "output_type": "stream",
     "text": [
      "C:\\Users\\sid\\Anaconda2\\lib\\site-packages\\ipykernel\\__main__.py:1: SettingWithCopyWarning: \n",
      "A value is trying to be set on a copy of a slice from a DataFrame.\n",
      "Try using .loc[row_indexer,col_indexer] = value instead\n",
      "\n",
      "See the caveats in the documentation: http://pandas.pydata.org/pandas-docs/stable/indexing.html#indexing-view-versus-copy\n",
      "  if __name__ == '__main__':\n"
     ]
    },
    {
     "data": {
      "text/plain": [
       "970585   2016-01-01 00:00:00\n",
       "970586   2016-01-01 01:00:00\n",
       "970587   2016-01-01 03:00:00\n",
       "970588   2016-01-01 04:00:00\n",
       "970589   2016-01-01 05:00:00\n",
       "Name: Days, dtype: datetime64[ns]"
      ]
     },
     "execution_count": 32,
     "metadata": {},
     "output_type": "execute_result"
    }
   ],
   "source": [
    "nj['Days'] = pd.to_datetime(nj['DateStr'])\n",
    "nj['Days'].head()"
   ]
  },
  {
   "cell_type": "code",
   "execution_count": 33,
   "metadata": {
    "collapsed": false
   },
   "outputs": [
    {
     "data": {
      "text/plain": [
       "970585    1\n",
       "970586    1\n",
       "970587    1\n",
       "970588    1\n",
       "970589    1\n",
       "Name: Days, dtype: int64"
      ]
     },
     "execution_count": 33,
     "metadata": {},
     "output_type": "execute_result"
    }
   ],
   "source": [
    "nj['Days'].dt.dayofyear.head()"
   ]
  },
  {
   "cell_type": "code",
   "execution_count": 34,
   "metadata": {
    "collapsed": false
   },
   "outputs": [],
   "source": [
    "#nj['Days'] = nj['Days'] - nj.iloc[0]['Days']"
   ]
  },
  {
   "cell_type": "code",
   "execution_count": 35,
   "metadata": {
    "collapsed": false
   },
   "outputs": [
    {
     "name": "stderr",
     "output_type": "stream",
     "text": [
      "C:\\Users\\sid\\Anaconda2\\lib\\site-packages\\ipykernel\\__main__.py:1: SettingWithCopyWarning: \n",
      "A value is trying to be set on a copy of a slice from a DataFrame.\n",
      "Try using .loc[row_indexer,col_indexer] = value instead\n",
      "\n",
      "See the caveats in the documentation: http://pandas.pydata.org/pandas-docs/stable/indexing.html#indexing-view-versus-copy\n",
      "  if __name__ == '__main__':\n"
     ]
    },
    {
     "data": {
      "text/plain": [
       "970585    1.000000\n",
       "970586    1.041667\n",
       "970587    1.125000\n",
       "970588    1.166667\n",
       "970589    1.208333\n",
       "970590    1.250000\n",
       "970591    1.291667\n",
       "970592    1.333333\n",
       "970593    1.375000\n",
       "970594    1.416667\n",
       "970595    1.458333\n",
       "970596    1.500000\n",
       "970597    1.541667\n",
       "970598    1.583333\n",
       "970599    1.625000\n",
       "970600    1.666667\n",
       "970601    1.708333\n",
       "970602    1.750000\n",
       "970603    1.791667\n",
       "970604    1.833333\n",
       "970605    1.875000\n",
       "970606    1.916667\n",
       "970607    1.958333\n",
       "970608    2.000000\n",
       "970609    2.041667\n",
       "Name: Days_frac, dtype: float64"
      ]
     },
     "execution_count": 35,
     "metadata": {},
     "output_type": "execute_result"
    }
   ],
   "source": [
    "nj['Days_frac'] = nj['Days'].dt.dayofyear +  nj['Days'].dt.hour/24.\n",
    "nj['Days_frac'].head(25)"
   ]
  },
  {
   "cell_type": "code",
   "execution_count": 42,
   "metadata": {
    "collapsed": false
   },
   "outputs": [
    {
     "data": {
      "text/plain": [
       "[<matplotlib.lines.Line2D at 0x167c5ac8>]"
      ]
     },
     "execution_count": 42,
     "metadata": {},
     "output_type": "execute_result"
    }
   ],
   "source": [
    "plt.plot(nj['Days_frac'],nj['Sample Measurement'])"
   ]
  },
  {
   "cell_type": "code",
   "execution_count": 43,
   "metadata": {
    "collapsed": false
   },
   "outputs": [
    {
     "data": {
      "text/plain": [
       "<matplotlib.text.Text at 0x10863fd0>"
      ]
     },
     "execution_count": 43,
     "metadata": {},
     "output_type": "execute_result"
    }
   ],
   "source": [
    "plt.xlabel('Days')\n",
    "plt.ylabel('Ozone(ppm)')\n",
    "plt.title('Concentration for Year 2016')"
   ]
  },
  {
   "cell_type": "code",
   "execution_count": 44,
   "metadata": {
    "collapsed": false
   },
   "outputs": [
    {
     "data": {
      "image/png": "[encoded data removed]",
      "text/plain": [
       "<matplotlib.figure.Figure at 0x18d3b9e8>"
      ]
     },
     "metadata": {},
     "output_type": "display_data"
    }
   ],
   "source": [
    "plt.show()"
   ]
  },
  {
   "cell_type": "code",
   "execution_count": 39,
   "metadata": {
    "collapsed": false
   },
   "outputs": [
    {
     "name": "stdout",
     "output_type": "stream",
     "text": [
      "State Code                                      34\n",
      "County Code                                     21\n",
      "Site Num                                      9991\n",
      "Parameter Code                               44201\n",
      "POC                                              1\n",
      "Latitude                                   40.3125\n",
      "Longitude                                 -74.8729\n",
      "Datum                                        NAD83\n",
      "Parameter Name                               Ozone\n",
      "Date Local                              2016-03-31\n",
      "Time Local                                   23:00\n",
      "Date GMT                                2016-04-01\n",
      "Time GMT                                     04:00\n",
      "Sample Measurement                           0.037\n",
      "Units of Measure                 Parts per million\n",
      "MDL                                          0.005\n",
      "Uncertainty                                    NaN\n",
      "Qualifier                                      NaN\n",
      "Method Type                                    FEM\n",
      "Method Code                                     47\n",
      "Method Name            INSTRUMENTAL - ULTRA VIOLET\n",
      "State Name                              New Jersey\n",
      "County Name                                 Mercer\n",
      "Date of Last Change                     2016-05-31\n",
      "DateStr                           2016-03-31 23:00\n",
      "Days                           2016-03-31 23:00:00\n",
      "Days_frac                                  91.9583\n",
      "Name: 972638, dtype: object\n"
     ]
    }
   ],
   "source": [
    "print nj.iloc[-1]"
   ]
  },
  {
   "cell_type": "code",
   "execution_count": null,
   "metadata": {
    "collapsed": true
   },
   "outputs": [],
   "source": []
  }
 ],
 "metadata": {
  "anaconda-cloud": {},
  "kernelspec": {
   "display_name": "Python [default]",
   "language": "python",
   "name": "python2"
  },
  "language_info": {
   "codemirror_mode": {
    "name": "ipython",
    "version": 2
   },
   "file_extension": ".py",
   "mimetype": "text/x-python",
   "name": "python",
   "nbconvert_exporter": "python",
   "pygments_lexer": "ipython2",
   "version": "2.7.12"
  }
 },
 "nbformat": 4,
 "nbformat_minor": 0
}
