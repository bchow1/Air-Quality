{
 "cells": [
  {
   "cell_type": "code",
   "execution_count": 6,
   "metadata": {
    "collapsed": true
   },
   "outputs": [],
   "source": [
    "import os\n",
    "import pandas as pd\n",
    "import numpy as np\n",
    "import matplotlib.pyplot as plt"
   ]
  },
  {
   "cell_type": "code",
   "execution_count": 7,
   "metadata": {
    "collapsed": false
   },
   "outputs": [
    {
     "name": "stdout",
     "output_type": "stream",
     "text": [
      "0.18.1\n"
     ]
    }
   ],
   "source": [
    "print pd.__version__"
   ]
  },
  {
   "cell_type": "code",
   "execution_count": 8,
   "metadata": {
    "collapsed": false
   },
   "outputs": [
    {
     "name": "stderr",
     "output_type": "stream",
     "text": [
      "C:\\Users\\Biswanath\\Anaconda2\\lib\\site-packages\\IPython\\core\\interactiveshell.py:2717: DtypeWarning: Columns (17) have mixed types. Specify dtype option on import or set low_memory=False.\n",
      "  interactivity=interactivity, compiler=compiler, result=result)\n"
     ]
    },
    {
     "name": "stdout",
     "output_type": "stream",
     "text": [
      "   State Code  County Code  Site Num  Parameter Code  POC  Latitude  \\\n",
      "0           1           49      9991           44201    1    34.289   \n",
      "1           1           49      9991           44201    1    34.289   \n",
      "2           1           49      9991           44201    1    34.289   \n",
      "3           1           49      9991           44201    1    34.289   \n",
      "4           1           49      9991           44201    1    34.289   \n",
      "\n",
      "   Longitude  Datum Parameter Name  Date Local         ...           \\\n",
      "0  -85.97007  NAD83          Ozone  2016-01-01         ...            \n",
      "1  -85.97007  NAD83          Ozone  2016-01-01         ...            \n",
      "2  -85.97007  NAD83          Ozone  2016-01-01         ...            \n",
      "3  -85.97007  NAD83          Ozone  2016-01-01         ...            \n",
      "4  -85.97007  NAD83          Ozone  2016-01-01         ...            \n",
      "\n",
      "    Units of Measure    MDL Uncertainty  Qualifier Method Type  Method Code  \\\n",
      "0  Parts per million  0.005         NaN        NaN         FEM           47   \n",
      "1  Parts per million  0.005         NaN        NaN         FEM           47   \n",
      "2  Parts per million  0.005         NaN        NaN         FEM           47   \n",
      "3  Parts per million  0.005         NaN        NaN         FEM           47   \n",
      "4  Parts per million  0.005         NaN        NaN         FEM           47   \n",
      "\n",
      "                   Method Name State Name County Name  Date of Last Change  \n",
      "0  INSTRUMENTAL - ULTRA VIOLET    Alabama      DeKalb           2016-03-31  \n",
      "1  INSTRUMENTAL - ULTRA VIOLET    Alabama      DeKalb           2016-03-31  \n",
      "2  INSTRUMENTAL - ULTRA VIOLET    Alabama      DeKalb           2016-03-31  \n",
      "3  INSTRUMENTAL - ULTRA VIOLET    Alabama      DeKalb           2016-03-31  \n",
      "4  INSTRUMENTAL - ULTRA VIOLET    Alabama      DeKalb           2016-03-31  \n",
      "\n",
      "[5 rows x 24 columns]\n"
     ]
    }
   ],
   "source": [
    "os.chdir(\"C:\\\\Users\\\\Biswanath\\\\CodeForPrinceton\\\\AirQuality\\\\Data\\\\2016\")\n",
    "o3 = pd.read_csv('hourly_44201_2016.zip', compression='zip', sep=',', quotechar='\"')\n",
    "#o3 = pd.read_csv('hourly_44201_2016.csv', sep=',', quotechar='\"')\n",
    "print o3.head()"
   ]
  },
  {
   "cell_type": "code",
   "execution_count": 9,
   "metadata": {
    "collapsed": false
   },
   "outputs": [
    {
     "name": "stdout",
     "output_type": "stream",
     "text": [
      "State Code                                       1\n",
      "County Code                                     49\n",
      "Site Num                                      9991\n",
      "Parameter Code                               44201\n",
      "POC                                              1\n",
      "Latitude                                    34.289\n",
      "Longitude                                 -85.9701\n",
      "Datum                                        NAD83\n",
      "Parameter Name                               Ozone\n",
      "Date Local                              2016-01-01\n",
      "Time Local                                   00:00\n",
      "Date GMT                                2016-01-01\n",
      "Time GMT                                     06:00\n",
      "Sample Measurement                           0.019\n",
      "Units of Measure                 Parts per million\n",
      "MDL                                          0.005\n",
      "Uncertainty                                    NaN\n",
      "Qualifier                                      NaN\n",
      "Method Type                                    FEM\n",
      "Method Code                                     47\n",
      "Method Name            INSTRUMENTAL - ULTRA VIOLET\n",
      "State Name                                 Alabama\n",
      "County Name                                 DeKalb\n",
      "Date of Last Change                     2016-03-31\n",
      "Name: 0, dtype: object\n"
     ]
    }
   ],
   "source": [
    "print o3.iloc[0]\n"
   ]
  },
  {
   "cell_type": "code",
   "execution_count": 10,
   "metadata": {
    "collapsed": false
   },
   "outputs": [],
   "source": [
    "nj = o3[o3['State Name']=='New Jersey']\n"
   ]
  },
  {
   "cell_type": "code",
   "execution_count": 11,
   "metadata": {
    "collapsed": false
   },
   "outputs": [
    {
     "name": "stdout",
     "output_type": "stream",
     "text": [
      "        Latitude  Longitude  Date Local Time Local  Sample Measurement\n",
      "970585   40.3125   -74.8729  2016-01-01      00:00               0.029\n",
      "970586   40.3125   -74.8729  2016-01-01      01:00               0.028\n",
      "970587   40.3125   -74.8729  2016-01-01      03:00               0.025\n",
      "970588   40.3125   -74.8729  2016-01-01      04:00               0.023\n",
      "970589   40.3125   -74.8729  2016-01-01      05:00               0.022\n",
      "970590   40.3125   -74.8729  2016-01-01      06:00               0.023\n",
      "970591   40.3125   -74.8729  2016-01-01      07:00               0.023\n",
      "970592   40.3125   -74.8729  2016-01-01      08:00               0.025\n",
      "970593   40.3125   -74.8729  2016-01-01      09:00               0.028\n",
      "970594   40.3125   -74.8729  2016-01-01      10:00               0.029\n",
      "970595   40.3125   -74.8729  2016-01-01      11:00               0.029\n",
      "970596   40.3125   -74.8729  2016-01-01      12:00               0.031\n",
      "970597   40.3125   -74.8729  2016-01-01      13:00               0.031\n",
      "970598   40.3125   -74.8729  2016-01-01      14:00               0.032\n",
      "970599   40.3125   -74.8729  2016-01-01      15:00               0.031\n",
      "970600   40.3125   -74.8729  2016-01-01      16:00               0.032\n",
      "970601   40.3125   -74.8729  2016-01-01      17:00               0.033\n",
      "970602   40.3125   -74.8729  2016-01-01      18:00               0.032\n",
      "970603   40.3125   -74.8729  2016-01-01      19:00               0.034\n",
      "970604   40.3125   -74.8729  2016-01-01      20:00               0.033\n",
      "970605   40.3125   -74.8729  2016-01-01      21:00               0.035\n",
      "970606   40.3125   -74.8729  2016-01-01      22:00               0.035\n",
      "970607   40.3125   -74.8729  2016-01-01      23:00               0.034\n",
      "970608   40.3125   -74.8729  2016-01-02      00:00               0.032\n",
      "970609   40.3125   -74.8729  2016-01-02      01:00               0.032\n"
     ]
    }
   ],
   "source": [
    "print nj.iloc[:25][['Latitude','Longitude','Date Local','Time Local','Sample Measurement']]\n",
    "#print nj['Latitude','Longitude','Date Local','Time Local','Sample Measurement'][0]"
   ]
  },
  {
   "cell_type": "code",
   "execution_count": 12,
   "metadata": {
    "collapsed": true
   },
   "outputs": [],
   "source": [
    "#nj.iloc[0]['Date Local'],'Time Local','Sample Measurement']]"
   ]
  },
  {
   "cell_type": "code",
   "execution_count": 14,
   "metadata": {
    "collapsed": false
   },
   "outputs": [
    {
     "ename": "AttributeError",
     "evalue": "Can only use .dt accessor with datetimelike values",
     "output_type": "error",
     "traceback": [
      "\u001b[0;31m---------------------------------------------------------------------------\u001b[0m",
      "\u001b[0;31mAttributeError\u001b[0m                            Traceback (most recent call last)",
      "\u001b[0;32m<ipython-input-14-fa2a43f8404b>\u001b[0m in \u001b[0;36m<module>\u001b[0;34m()\u001b[0m\n\u001b[0;32m----> 1\u001b[0;31m \u001b[0mnj\u001b[0m\u001b[1;33m[\u001b[0m\u001b[1;34m'DateStr'\u001b[0m\u001b[1;33m]\u001b[0m \u001b[1;33m=\u001b[0m \u001b[0mnj\u001b[0m\u001b[1;33m[\u001b[0m\u001b[1;34m'Date Local'\u001b[0m\u001b[1;33m]\u001b[0m\u001b[1;33m.\u001b[0m\u001b[0mdt\u001b[0m\u001b[1;33m.\u001b[0m\u001b[0mstrftime\u001b[0m\u001b[1;33m(\u001b[0m\u001b[1;34m'%Y%m%d'\u001b[0m\u001b[1;33m)\u001b[0m\u001b[1;33m\u001b[0m\u001b[0m\n\u001b[0m",
      "\u001b[0;32mC:\\Users\\Biswanath\\Anaconda2\\lib\\site-packages\\pandas\\core\\generic.pyc\u001b[0m in \u001b[0;36m__getattr__\u001b[0;34m(self, name)\u001b[0m\n\u001b[1;32m   2666\u001b[0m         if (name in self._internal_names_set or name in self._metadata or\n\u001b[1;32m   2667\u001b[0m                 name in self._accessors):\n\u001b[0;32m-> 2668\u001b[0;31m             \u001b[1;32mreturn\u001b[0m \u001b[0mobject\u001b[0m\u001b[1;33m.\u001b[0m\u001b[0m__getattribute__\u001b[0m\u001b[1;33m(\u001b[0m\u001b[0mself\u001b[0m\u001b[1;33m,\u001b[0m \u001b[0mname\u001b[0m\u001b[1;33m)\u001b[0m\u001b[1;33m\u001b[0m\u001b[0m\n\u001b[0m\u001b[1;32m   2669\u001b[0m         \u001b[1;32melse\u001b[0m\u001b[1;33m:\u001b[0m\u001b[1;33m\u001b[0m\u001b[0m\n\u001b[1;32m   2670\u001b[0m             \u001b[1;32mif\u001b[0m \u001b[0mname\u001b[0m \u001b[1;32min\u001b[0m \u001b[0mself\u001b[0m\u001b[1;33m.\u001b[0m\u001b[0m_info_axis\u001b[0m\u001b[1;33m:\u001b[0m\u001b[1;33m\u001b[0m\u001b[0m\n",
      "\u001b[0;32mC:\\Users\\Biswanath\\Anaconda2\\lib\\site-packages\\pandas\\core\\base.pyc\u001b[0m in \u001b[0;36m__get__\u001b[0;34m(self, instance, owner)\u001b[0m\n\u001b[1;32m    235\u001b[0m             \u001b[1;31m# this ensures that Series.str.<method> is well defined\u001b[0m\u001b[1;33m\u001b[0m\u001b[1;33m\u001b[0m\u001b[0m\n\u001b[1;32m    236\u001b[0m             \u001b[1;32mreturn\u001b[0m \u001b[0mself\u001b[0m\u001b[1;33m.\u001b[0m\u001b[0maccessor_cls\u001b[0m\u001b[1;33m\u001b[0m\u001b[0m\n\u001b[0;32m--> 237\u001b[0;31m         \u001b[1;32mreturn\u001b[0m \u001b[0mself\u001b[0m\u001b[1;33m.\u001b[0m\u001b[0mconstruct_accessor\u001b[0m\u001b[1;33m(\u001b[0m\u001b[0minstance\u001b[0m\u001b[1;33m)\u001b[0m\u001b[1;33m\u001b[0m\u001b[0m\n\u001b[0m\u001b[1;32m    238\u001b[0m \u001b[1;33m\u001b[0m\u001b[0m\n\u001b[1;32m    239\u001b[0m     \u001b[1;32mdef\u001b[0m \u001b[0m__set__\u001b[0m\u001b[1;33m(\u001b[0m\u001b[0mself\u001b[0m\u001b[1;33m,\u001b[0m \u001b[0minstance\u001b[0m\u001b[1;33m,\u001b[0m \u001b[0mvalue\u001b[0m\u001b[1;33m)\u001b[0m\u001b[1;33m:\u001b[0m\u001b[1;33m\u001b[0m\u001b[0m\n",
      "\u001b[0;32mC:\\Users\\Biswanath\\Anaconda2\\lib\\site-packages\\pandas\\core\\series.pyc\u001b[0m in \u001b[0;36m_make_dt_accessor\u001b[0;34m(self)\u001b[0m\n\u001b[1;32m   2711\u001b[0m             \u001b[1;32mreturn\u001b[0m \u001b[0mmaybe_to_datetimelike\u001b[0m\u001b[1;33m(\u001b[0m\u001b[0mself\u001b[0m\u001b[1;33m)\u001b[0m\u001b[1;33m\u001b[0m\u001b[0m\n\u001b[1;32m   2712\u001b[0m         \u001b[1;32mexcept\u001b[0m \u001b[0mException\u001b[0m\u001b[1;33m:\u001b[0m\u001b[1;33m\u001b[0m\u001b[0m\n\u001b[0;32m-> 2713\u001b[0;31m             raise AttributeError(\"Can only use .dt accessor with datetimelike \"\n\u001b[0m\u001b[1;32m   2714\u001b[0m                                  \"values\")\n\u001b[1;32m   2715\u001b[0m \u001b[1;33m\u001b[0m\u001b[0m\n",
      "\u001b[0;31mAttributeError\u001b[0m: Can only use .dt accessor with datetimelike values"
     ]
    }
   ],
   "source": [
    "nj['DateStr'] = nj['Date Local'].dt.strftime('%Y%m%d')"
   ]
  },
  {
   "cell_type": "code",
   "execution_count": null,
   "metadata": {
    "collapsed": false
   },
   "outputs": [],
   "source": [
    "plt.plot(nj['Sample Measurement'])"
   ]
  },
  {
   "cell_type": "code",
   "execution_count": null,
   "metadata": {
    "collapsed": false
   },
   "outputs": [],
   "source": [
    "plt.show()"
   ]
  }
 ],
 "metadata": {
  "anaconda-cloud": {},
  "kernelspec": {
   "display_name": "Python [default]",
   "language": "python",
   "name": "python2"
  },
  "language_info": {
   "codemirror_mode": {
    "name": "ipython",
    "version": 2
   },
   "file_extension": ".py",
   "mimetype": "text/x-python",
   "name": "python",
   "nbconvert_exporter": "python",
   "pygments_lexer": "ipython2",
   "version": "2.7.12"
  }
 },
 "nbformat": 4,
 "nbformat_minor": 0
}
